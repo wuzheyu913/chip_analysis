{
 "cells": [
  {
   "cell_type": "code",
   "execution_count": null,
   "id": "e6006398",
   "metadata": {
    "code_folding": []
   },
   "outputs": [],
   "source": [
    "\n",
    "\n",
    "def lineNotifyMessage(token, msg):\n",
    "    import requests\n",
    "    headers = {\n",
    "       \"Authorization\": \"Bearer \" + token,\n",
    "       \"Content-Type\" : \"application/x-www-form-urlencoded\"\n",
    "    }\n",
    "    payload = {'message': msg}\n",
    "    r = requests.post(\"https://notify-api.line.me/api/notify\", headers = headers, params = payload)\n",
    "    return r.status_code\n",
    "\n",
    "def main(分點,date = date,stock = stock):\n",
    "    params = (date,stock)\n",
    "    conn = pymssql.connect(host = 'localhost')\n",
    "    cursor = conn.cursor()\n",
    "    querystr = 'SELECT  [scode],[sname],成交量,[成交金額(千)],收盤價 FROM [MyDB1].[dbo].[CMoney_日收盤表排行] where txn=%s and scode = %s'\n",
    "    cursor.execute(querystr,params=params)\n",
    "    data = []\n",
    "    for row in cursor:\n",
    "        temp = []\n",
    "        for i in row:\n",
    "            temp.append(i)\n",
    "           # print(temp)\n",
    "        data.append(temp)\n",
    "    data = pd.DataFrame(data,columns=['公司代號','公司名稱','成交量','成交金額(千)','收盤價'])\n",
    "    params = [date,stock,分點]\n",
    "    conn = pymssql.connect(host = 'localhost')\n",
    "    cursor = conn.cursor()\n",
    "    select = 'SELECT  txn,[scode],[sname],[bcode],[bname],sum([買張]-[賣張])as [買超(張)]'\n",
    "    From = 'FROM [MyDB1].[dbo].[CMoney_個股券商分點進出明細]'\n",
    "    Where = ' where txn = %s and scode = %s and bname in %s'\n",
    "    groupby = 'group by sname, scode, bcode, bname,txn'\n",
    "    querystr = select+From+Where+groupby\n",
    "    cursor.execute(querystr,params=(date,stock,分點))\n",
    "    data1 = []\n",
    "    for row in cursor:\n",
    "        temp = []\n",
    "        for i in row:\n",
    "            temp.append(i)\n",
    "        data1.append(temp)\n",
    "    data1 = pd.DataFrame(data1,columns = ['date','公司代號','公司名稱','分點代號','分點名稱','買超'])\n",
    "    data1['成交量'] = data['成交量'].values[0]\n",
    "    if data1.empty :\n",
    "        pass\n",
    "    elif data1['買超'].cumsum().iloc[-1]> data1['成交量'].values[0]* 0.2 :\n",
    "        token = 'iNHGpwf7KAau4gPA2nIFuBG00B5Z9mqw6TDPs0ulrxM'\n",
    "        message = f'''\n",
    "    ⏰日期:{date}\n",
    "    🆔公司代號: {stock}\n",
    "    📦公司名稱: {data1['公司名稱'].values[0]}\n",
    "    💹地緣買超占比: {round(data1['買超'].cumsum().iloc[-1] / data1['成交量'].values[0] * 100, 2)}%\n",
    "    📊總成交量: {data1['成交量'].values[0]}\n",
    "    💰今日收盤價: {data['收盤價'].values[0]}\n",
    "    '''\n",
    "    lineNotifyMessage(token,message)"
   ]
  }
 ],
 "metadata": {
  "kernelspec": {
   "display_name": "Python 3 (ipykernel)",
   "language": "python",
   "name": "python3"
  },
  "language_info": {
   "codemirror_mode": {
    "name": "ipython",
    "version": 3
   },
   "file_extension": ".py",
   "mimetype": "text/x-python",
   "name": "python",
   "nbconvert_exporter": "python",
   "pygments_lexer": "ipython3",
   "version": "3.10.9"
  },
  "toc": {
   "base_numbering": 1,
   "nav_menu": {},
   "number_sections": true,
   "sideBar": true,
   "skip_h1_title": false,
   "title_cell": "Table of Contents",
   "title_sidebar": "Contents",
   "toc_cell": false,
   "toc_position": {},
   "toc_section_display": true,
   "toc_window_display": false
  },
  "varInspector": {
   "cols": {
    "lenName": 16,
    "lenType": 16,
    "lenVar": 40
   },
   "kernels_config": {
    "python": {
     "delete_cmd_postfix": "",
     "delete_cmd_prefix": "del ",
     "library": "var_list.py",
     "varRefreshCmd": "print(var_dic_list())"
    },
    "r": {
     "delete_cmd_postfix": ") ",
     "delete_cmd_prefix": "rm(",
     "library": "var_list.r",
     "varRefreshCmd": "cat(var_dic_list()) "
    }
   },
   "types_to_exclude": [
    "module",
    "function",
    "builtin_function_or_method",
    "instance",
    "_Feature"
   ],
   "window_display": false
  }
 },
 "nbformat": 4,
 "nbformat_minor": 5
}
