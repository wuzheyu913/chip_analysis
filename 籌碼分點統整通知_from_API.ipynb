{
 "cells": [
  {
   "cell_type": "markdown",
   "id": "937b5a7e",
   "metadata": {},
   "source": [
    "[個股前20大分點進出] \n",
    "網址 : https://api.tej.com.tw/columndoc.html?subId=150"
   ]
  },
  {
   "cell_type": "code",
   "execution_count": 1,
   "id": "b5a17406",
   "metadata": {
    "ExecuteTime": {
     "end_time": "2024-01-17T07:47:40.746837Z",
     "start_time": "2024-01-17T07:47:38.857787Z"
    }
   },
   "outputs": [],
   "source": [
    "import tejapi\n",
    "from datetime import date\n",
    "import pandas as pd\n",
    "import openpyxl\n",
    "from openpyxl import Workbook\n",
    "from openpyxl import load_workbook\n",
    "from openpyxl.styles import Font\n",
    "from openpyxl.styles import PatternFill\n",
    "\n",
    "import pygsheets\n",
    "\n",
    "from email.mime.multipart import MIMEMultipart\n",
    "from email.mime.text import MIMEText\n",
    "import smtplib\n",
    "from email.mime.image import MIMEImage\n",
    "from pathlib import Path\n",
    "from email.mime.application import MIMEApplication "
   ]
  },
  {
   "cell_type": "markdown",
   "id": "4e0e9cc0",
   "metadata": {},
   "source": [
    "## API 拿"
   ]
  },
  {
   "cell_type": "code",
   "execution_count": 4,
   "id": "eee9ecc1",
   "metadata": {
    "ExecuteTime": {
     "end_time": "2024-01-17T07:55:44.554002Z",
     "start_time": "2024-01-17T07:53:35.509538Z"
    },
    "collapsed": true
   },
   "outputs": [
    {
     "data": {
      "text/html": [
       "<div>\n",
       "<style scoped>\n",
       "    .dataframe tbody tr th:only-of-type {\n",
       "        vertical-align: middle;\n",
       "    }\n",
       "\n",
       "    .dataframe tbody tr th {\n",
       "        vertical-align: top;\n",
       "    }\n",
       "\n",
       "    .dataframe thead th {\n",
       "        text-align: right;\n",
       "    }\n",
       "</style>\n",
       "<table border=\"1\" class=\"dataframe\">\n",
       "  <thead>\n",
       "    <tr style=\"text-align: right;\">\n",
       "      <th></th>\n",
       "      <th>證券名稱</th>\n",
       "      <th>年月日</th>\n",
       "      <th>排名</th>\n",
       "      <th>成交量(股)</th>\n",
       "      <th>成交值(元)</th>\n",
       "      <th>當日買賣超量(股)</th>\n",
       "      <th>當日買賣超量-券商</th>\n",
       "      <th>當日買賣超金額(元)</th>\n",
       "      <th>當日買賣超金額-券商</th>\n",
       "    </tr>\n",
       "    <tr>\n",
       "      <th>None</th>\n",
       "      <th></th>\n",
       "      <th></th>\n",
       "      <th></th>\n",
       "      <th></th>\n",
       "      <th></th>\n",
       "      <th></th>\n",
       "      <th></th>\n",
       "      <th></th>\n",
       "      <th></th>\n",
       "    </tr>\n",
       "  </thead>\n",
       "  <tbody>\n",
       "  </tbody>\n",
       "</table>\n",
       "</div>"
      ],
      "text/plain": [
       "Empty DataFrame\n",
       "Columns: [證券名稱, 年月日, 排名, 成交量(股), 成交值(元), 當日買賣超量(股), 當日買賣超量-券商, 當日買賣超金額(元), 當日買賣超金額-券商]\n",
       "Index: []"
      ]
     },
     "execution_count": 4,
     "metadata": {},
     "output_type": "execute_result"
    }
   ],
   "source": [
    "# 今天的日期\n",
    "today = date.today().strftime(\"%Y-%m-%d\")\n",
    "\n",
    "tejapi.ApiConfig.api_key = \"eJ8bhkYk3BEbRVtqNxRc0R45ZzCYaM\"\n",
    "tejapi.ApiConfig.api_base = \"http://10.10.10.66\"\n",
    "\n",
    "# 需要的欄位\n",
    "columns = ['coid', 'mdate', 'key3', 'zvol_d', 'zamt_d', 'net_s1', 'net_s1b', 'net_a1', 'net_a1b']\n",
    "# columns = ['key3', 'zvol_d', 'zamt_d', 'net_s1', 'net_s1b']\n",
    "# data = tejapi.get('TWN/ABSR20', mdate='2024-01-15', opts={'columns': columns}, chinese_column_name=True, paginate=True)\n",
    "data = tejapi.get('TWN/ABSR20', mdate=today, opts={'columns': columns}, chinese_column_name=True, paginate=True)\n",
    "data"
   ]
  },
  {
   "cell_type": "markdown",
   "id": "66b164cd",
   "metadata": {},
   "source": [
    "## 排除分點清單"
   ]
  },
  {
   "cell_type": "code",
   "execution_count": 7,
   "id": "1d955da9",
   "metadata": {
    "ExecuteTime": {
     "end_time": "2024-01-16T10:34:28.267087Z",
     "start_time": "2024-01-16T10:34:28.261576Z"
    }
   },
   "outputs": [],
   "source": [
    "# 排除 (外資) (總公司)\n",
    "lst_bname_foreign = ['摩根大通', '上海匯豐' ,'美林', '台灣摩根', '台灣匯立', '法銀巴黎', '花旗環球', '美林', '美商高盛', '港商野村', '港麥格理', '瑞銀', '聯邦']\n",
    "lst_bname_corporate = ['元大', '兆豐', '元富', '台新', '永豐金', '玉山', '合庫', '亞東', '康和', '統一', '凱基', '凱基台北', '富邦', '富邦經紀', '群益','華南永昌'\n",
    "                      ,'中國信託', '臺銀', '宏遠', '彰銀', '第一金證', '新光', '土銀', '國泰綜合']\n",
    "lst_exclude = lst_bname_foreign + lst_bname_corporate"
   ]
  },
  {
   "cell_type": "markdown",
   "id": "9011fa3a",
   "metadata": {},
   "source": [
    "# 整理"
   ]
  },
  {
   "cell_type": "code",
   "execution_count": 11,
   "id": "2588bf35",
   "metadata": {
    "ExecuteTime": {
     "end_time": "2024-01-16T10:36:11.869293Z",
     "start_time": "2024-01-16T10:36:10.979662Z"
    },
    "code_folding": [
     1
    ]
   },
   "outputs": [],
   "source": [
    "\n",
    "def arrange_data(df):\n",
    "    df['年月日'] = df['年月日'].dt.strftime('%Y-%m-%d')\n",
    "    df = df[df['證券名稱'].apply(lambda x: len(str(x)) == 4)]\n",
    "    df.columns = ['scode', 'date', '排名', 'vol(千股)', 'vol(萬)', 'buy_量', '券商分點_量', 'buy_金額', '券商分點_金額']\n",
    "\n",
    "    # 把 公司中文名 merge\n",
    "    df_name = pd.read_excel('comp_name.xlsx')\n",
    "    df_name.rename(columns={'代號': 'scode', '名稱':'sname'}, inplace=True)\n",
    "    df_name['scode'] = df_name['scode'].astype(str)\n",
    "    df = df.merge(df_name, on=['scode'], how='left')\n",
    "    df = df[df['sname'].notnull()]\n",
    "    df = df[['scode', 'sname', 'date', '排名', 'vol(千股)', 'vol(萬)', 'buy_量', '券商分點_量', 'buy_金額', '券商分點_金額']]\n",
    "\n",
    "    # 整理買賣超金額 / 股數 / 買超佔比\n",
    "    df['buy_proportion'] = round(df['buy_量'] / df['vol(千股)']*100,2)\n",
    "    df['vol(千股)'] = round(df['vol(千股)']/1000, 2)\n",
    "    df['vol(萬)'] = round(df['vol(萬)']/10000, 2)\n",
    "    df['buy_量'] = round(df['buy_量']/1000, 2)\n",
    "    df['buy_金額'] = round(df['buy_金額']/10000, 2)\n",
    "\n",
    "    # 整理 成交量\n",
    "    df_temp = df[['scode', 'date', 'buy_量', '券商分點_量']].copy()\n",
    "    df = df[['scode', 'sname', 'date', '排名', 'vol(千股)', 'vol(萬)', 'buy_金額', '券商分點_金額', 'buy_proportion']]\n",
    "    df = df.merge(df_temp, left_on=['scode', 'date', '券商分點_金額'], right_on=['scode', 'date', '券商分點_量'], how='left')\n",
    "    df = df[['scode', 'sname', 'date', '排名', 'vol(千股)', 'vol(萬)', 'buy_量', 'buy_金額', '券商分點_金額', 'buy_proportion']]\n",
    "    df.rename(columns={'券商分點_金額': 'bname'}, inplace=True)\n",
    "\n",
    "    # 篩選\n",
    "    df = df[df['buy_金額']>100]\n",
    "\n",
    "    df.reset_index(drop=True, inplace=True)\n",
    "    return df\n",
    "\n",
    "df = data.copy()\n",
    "df = arrange_data(df)\n",
    "\n",
    "# 條件 \n",
    "# 1 : 買超金額 > ?\n",
    "# 2 : 買超佔比 > ?\n",
    "# 3 : 排除分點\n",
    "df_out = df[(df['buy_金額']>300)&(~df['bname'].isin(lst_exclude))].copy()\n",
    "df_out = df_out.sort_values(['buy_金額'],ascending=False).reset_index(drop=True)\n",
    "df_out['scode'] = df_out['scode'].astype(int)"
   ]
  },
  {
   "cell_type": "markdown",
   "id": "dab9da21",
   "metadata": {
    "heading_collapsed": true
   },
   "source": [
    "# 抓 google sheet (籌碼分點紀錄)"
   ]
  },
  {
   "cell_type": "code",
   "execution_count": 12,
   "id": "c908fe84",
   "metadata": {
    "ExecuteTime": {
     "end_time": "2024-01-16T10:36:16.195874Z",
     "start_time": "2024-01-16T10:36:13.368746Z"
    },
    "code_folding": [
     3,
     11
    ],
    "hidden": true
   },
   "outputs": [
    {
     "name": "stdout",
     "output_type": "stream",
     "text": [
      "[<Worksheet '操作厲害' index:0>, <Worksheet '董監分點' index:1>, <Worksheet '誰' index:2>, <Worksheet '隔日沖' index:3>, <Worksheet '1' index:4>]\n"
     ]
    }
   ],
   "source": [
    "import pygsheets\n",
    "import pandas as pd\n",
    "\n",
    "def get_googlesheet_chip():\n",
    "    gc = pygsheets.authorize(service_file='sotck-chip-analysis-4d71166d853b.json')\n",
    "    sheet = gc.open('chip')\n",
    "    print(sheet.worksheets()) # 看有哪些 sheet\n",
    "    df_chip_google = pd.DataFrame(sheet[0].get_all_records())\n",
    "    df_chip_chairman = pd.DataFrame(sheet[1].get_all_records())\n",
    "    return df_chip_google, df_chip_chairman\n",
    "\n",
    "def mark_special_chip(df, df_chip_google, df_chip_chairman):\n",
    "    # TEJ 的分點都是4個字，所以要調整 ==\n",
    "    dic = {'第一金': '第一', '華南永昌': '華南', '敦北法人': '敦北', '群益金鼎':'群益', '永豐金':'永豐', '中國信託':'中信', '台灣企銀':'台企', \n",
    "          '北高雄':'北高', '忠孝鼎富':'忠鼎', '西台中':'西台', '彰化民生':'彰生', '大天母':'大天', '高美館':'高美', '南京東路':'南京', '蘆洲中正':'蘆洲', '統一新台中':'統一新台',\n",
    "          '北成功':'北成', '北三重':'北重', '大稻埕':'稻埕',' ':''}\n",
    "\n",
    "    # 特別分點\n",
    "    df_c = df_chip_google.copy()\n",
    "    df_c['分點'] = df_c['分點'].replace(dic, regex=True)\n",
    "    df_c = df_c.rename(columns={'分點':'bname'})\n",
    "    df_c = df_c[['scode', 'bname', '特性', 'Good', '權證', '年度1', '年度2', '備註']]\n",
    "    df['特別記錄'] = ''\n",
    "    df = df.merge(df_c, on=['scode', 'bname'], how='left')\n",
    "    df.loc[df['特性'].notnull(),'特別記錄'] = 'Y'\n",
    "    df = df.sort_values(by=['特性', 'buy_金額'], ascending=[True, False])\n",
    "\n",
    "    # 董監分點\n",
    "    dfchairman = df_chip_chairman.copy()\n",
    "    dfchairman = dfchairman.rename(columns={'分點':'bname'})\n",
    "    dfchairman['bname'] = dfchairman['bname'].replace(dic, regex=True)\n",
    "    dfchairman = dfchairman[['scode', '申報人身分', '姓名', 'bname', '年度', '厲害']]\n",
    "    dfchairman['申報人身分'] = dfchairman['申報人身分'].str.replace('\\t','')\n",
    "    df['董監分點'] = ''\n",
    "    df = df.merge(dfchairman, on=['scode','bname'], how='left')\n",
    "    df.loc[df['申報人身分'].notnull(),'董監分點'] = 'Y'\n",
    "    df = df.sort_values(by=['特性', '董監分點', 'buy_金額'], ascending=[True, True, False])\n",
    "    df = df.reset_index(drop=True)\n",
    "    return df\n",
    "\n",
    "df_chip_google, df_chip_chairman = get_googlesheet_chip()\n",
    "df_out = mark_special_chip(df_out, df_chip_google, df_chip_chairman)\n",
    "df_out\n",
    "# to excel\n",
    "file_name = '分點買賣超_%s.xlsx'%(date.today().strftime(\"%Y%m%d\"))\n",
    "df_out.to_excel(file_name, index=False, header=True)"
   ]
  },
  {
   "cell_type": "markdown",
   "id": "e6cd5edd",
   "metadata": {},
   "source": [
    "# 著色"
   ]
  },
  {
   "cell_type": "code",
   "execution_count": 13,
   "id": "ec369478",
   "metadata": {
    "ExecuteTime": {
     "end_time": "2024-01-16T10:40:35.095524Z",
     "start_time": "2024-01-16T10:40:20.654730Z"
    },
    "code_folding": [
     1,
     23,
     38,
     52
    ]
   },
   "outputs": [],
   "source": [
    "# 把 excel 著色\n",
    "def color_excel(file_name):\n",
    "    workbook = openpyxl.load_workbook(file_name)\n",
    "    sheet = workbook.worksheets[0]\n",
    "\n",
    "    # 顯示 cell 資料\n",
    "    for i in range(1, sheet.max_row+1):\n",
    "        for j in range(1, sheet.max_column+1):\n",
    "            cell = sheet.cell(row=i, column=j)\n",
    "            if i == 1:\n",
    "                cell.font = Font(name='微軟正黑體', bold=True, size=12)\n",
    "            elif j in [1,3,4,5,6,7,11,13,14,15,16,18,21,22]:\n",
    "                cell.font = Font(name='Calibri')\n",
    "            elif j in [2,9,12,17,19,20]:\n",
    "                cell.font = Font(name='微軟正黑體')\n",
    "            \n",
    "            if j in [11,12,13,14,15,16,17] and i == 1:\n",
    "                color_fill = PatternFill(start_color='FFFF6F', fill_type='solid')\n",
    "                sheet.cell(row=i, column=j).fill = color_fill\n",
    "            elif j in [18,19,20,21,22] and i == 1:\n",
    "                color_fill = PatternFill(start_color='FFAF60', fill_type='solid')\n",
    "                sheet.cell(row=i, column=j).fill = color_fill\n",
    "                \n",
    "            if j == 8 and i != 1: # buy_金額\n",
    "                # print(i, j, cell.value)\n",
    "                if cell.value > 20000:\n",
    "                    color_fill = PatternFill(start_color='ffd6cf', fill_type='solid')\n",
    "                    sheet.cell(row=i, column=j).fill = color_fill          \n",
    "                elif cell.value > 10000:\n",
    "                    color_fill = PatternFill(start_color='ffe6b3', fill_type='solid')\n",
    "                    sheet.cell(row=i, column=j).fill = color_fill\n",
    "                elif cell.value > 5000:\n",
    "                    color_fill = PatternFill(start_color='c7dbf7', fill_type='solid')\n",
    "                    sheet.cell(row=i, column=j).fill = color_fill\n",
    "                elif cell.value > 1000:\n",
    "                    color_fill = PatternFill(start_color='DDF3FF', fill_type='solid')\n",
    "                    sheet.cell(row=i, column=j).fill = color_fill\n",
    "                cell.font = Font(name='Calibri')\n",
    "            elif j == 10 and i != 1: # buy_proportion\n",
    "                if cell.value > 50:\n",
    "                    color_fill = PatternFill(start_color='bfa87c', fill_type='solid')\n",
    "                    sheet.cell(row=i, column=j).fill = color_fill\n",
    "                elif cell.value > 20:\n",
    "                    color_fill = PatternFill(start_color='e6d395', fill_type='solid')\n",
    "                    sheet.cell(row=i, column=j).fill = color_fill\n",
    "                elif cell.value > 10:\n",
    "                    color_fill = PatternFill(start_color='f0e6c0', fill_type='solid')\n",
    "                    sheet.cell(row=i, column=j).fill = color_fill\n",
    "                elif cell.value > 5:\n",
    "                    color_fill = PatternFill(start_color='fffad9', fill_type='solid')\n",
    "                    sheet.cell(row=i, column=j).fill = color_fill\n",
    "                cell.font = Font(name='Calibri')\n",
    "            elif (j == 11 or j == 18) and i != 1: # 特別記錄分點\n",
    "                if cell.value == 'Y':\n",
    "                    color_fill = PatternFill(start_color='E6E6F2', fill_type='solid')\n",
    "                    sheet.cell(row=i, column=j).fill = color_fill\n",
    "\n",
    "    workbook.save(file_name)\n",
    "\n",
    "color_excel(file_name)"
   ]
  },
  {
   "cell_type": "markdown",
   "id": "053a20d9",
   "metadata": {},
   "source": [
    "# Email \n",
    "email test專案密碼 : hwvo kclo yqfo lmvu\n"
   ]
  },
  {
   "cell_type": "code",
   "execution_count": null,
   "id": "7b073233",
   "metadata": {
    "code_folding": [
     0
    ]
   },
   "outputs": [],
   "source": [
    "def auto_send_mail(my_mail, receive_mail, file_name):\n",
    "    content = MIMEMultipart()  #建立MIMEMultipart物件\n",
    "    content[\"subject\"] = \"%s 籌碼分點excel\"%(date.today().strftime(\"%Y-%m-%d\"))   #郵件標題\n",
    "    content[\"from\"] = my_mail  #寄件者\n",
    "    content[\"to\"] = receive_mail #收件者\n",
    "    content.attach(MIMEText(\"~~~今天ㄉ籌碼分點excel~~~\"))  #郵件內容\n",
    "\n",
    "    #寄送csv檔案\n",
    "    \n",
    "    with open(file_name, 'rb') as file:\n",
    "        pdfload = MIMEApplication(file.read())\n",
    "        pdfload.add_header('Content-Disposition', 'attachment', filename=file_name)\n",
    "        content.attach(pdfload)\n",
    "\n",
    "    with smtplib.SMTP(host=\"smtp.gmail.com\", port=\"587\") as smtp:  # 設定SMTP伺服器\n",
    "        try:\n",
    "            smtp.ehlo()  # 驗證SMTP伺服器\n",
    "            smtp.starttls()  # 建立加密傳輸\n",
    "            smtp.login(my_mail, \"hwvo kclo yqfo lmvu\")  # 登入寄件者gmail\n",
    "            smtp.send_message(content)  # 寄送郵件\n",
    "            print(receive_mail, \"成功傳送\")\n",
    "        except Exception as e:\n",
    "            print(receive_mail, \"Error message: \", e)\n",
    "\n",
    "my_mail = 'auto.momoju@gmail.com'\n",
    "mail_list = pd.read_excel('mail_receive.xlsx')['收件人'].tolist()\n",
    "for receive in mail_list:\n",
    "    print(receive)\n",
    "    auto_send_mail(my_mail, receive, file_name)"
   ]
  },
  {
   "cell_type": "markdown",
   "id": "edcc1754",
   "metadata": {},
   "source": [
    "# 合併"
   ]
  },
  {
   "cell_type": "code",
   "execution_count": 15,
   "id": "65a935de",
   "metadata": {
    "ExecuteTime": {
     "end_time": "2024-01-16T10:47:25.904952Z",
     "start_time": "2024-01-16T10:46:52.882708Z"
    },
    "code_folding": [
     44,
     90,
     98,
     137,
     204
    ]
   },
   "outputs": [
    {
     "name": "stdout",
     "output_type": "stream",
     "text": [
      "[<Worksheet '操作厲害' index:0>, <Worksheet '董監分點' index:1>, <Worksheet '誰' index:2>, <Worksheet '隔日沖' index:3>, <Worksheet '1' index:4>]\n"
     ]
    }
   ],
   "source": [
    "import tejapi\n",
    "from datetime import date\n",
    "import pandas as pd\n",
    "import openpyxl\n",
    "from openpyxl import Workbook\n",
    "from openpyxl import load_workbook\n",
    "from openpyxl.styles import Font\n",
    "from openpyxl.styles import PatternFill\n",
    "\n",
    "import pygsheets\n",
    "\n",
    "from email.mime.multipart import MIMEMultipart\n",
    "from email.mime.text import MIMEText\n",
    "import smtplib\n",
    "from email.mime.image import MIMEImage\n",
    "from pathlib import Path\n",
    "from email.mime.application import MIMEApplication \n",
    "# ==================================================================\n",
    "# API 拿\n",
    "# 今天的日期\n",
    "today = date.today().strftime(\"%Y-%m-%d\")\n",
    "\n",
    "tejapi.ApiConfig.api_key = \"eJ8bhkYk3BEbRVtqNxRc0R45ZzCYaM\"\n",
    "tejapi.ApiConfig.api_base = \"http://10.10.10.66\"\n",
    "\n",
    "# 需要的欄位\n",
    "columns = ['coid', 'mdate', 'key3', 'zvol_d', 'zamt_d', 'net_s1', 'net_s1b', 'net_a1', 'net_a1b']\n",
    "# columns = ['key3', 'zvol_d', 'zamt_d', 'net_s1', 'net_s1b']\n",
    "# data = tejapi.get('TWN/ABSR20', mdate='2024-01-09', opts={'columns': columns}, chinese_column_name=True, paginate=True)\n",
    "data = tejapi.get('TWN/ABSR20', mdate=today, opts={'columns': columns}, chinese_column_name=True, paginate=True)\n",
    "\n",
    "# ==================================================================\n",
    "# 排除分點清單\n",
    "# 排除 (外資) (總公司)\n",
    "lst_bname_foreign = ['摩根大通', '上海匯豐' ,'美林', '台灣摩根', '台灣匯立', '法銀巴黎', '花旗環球', '美林', '美商高盛', '港商野村', '港麥格理', '瑞銀', '聯邦']\n",
    "lst_bname_corporate = ['元大', '兆豐', '元富', '台新', '永豐金', '玉山', '合庫', '亞東', '康和', '統一', '凱基', '凱基台北', '富邦', '富邦經紀', '群益','華南永昌'\n",
    "                      ,'中國信託', '臺銀', '宏遠', '彰銀', '第一金證', '新光', '土銀', '國泰綜合']\n",
    "lst_exclude = lst_bname_foreign + lst_bname_corporate\n",
    "\n",
    "# ==================================================================\n",
    "# main fuc\n",
    "\n",
    "# -----------------------------------------\n",
    "# 1. 整理\n",
    "def arrange_data(df):\n",
    "    df['年月日'] = df['年月日'].dt.strftime('%Y-%m-%d')\n",
    "    df = df[df['證券名稱'].apply(lambda x: len(str(x)) == 4)]\n",
    "    df.columns = ['scode', 'date', '排名', 'vol(千股)', 'vol(萬)', 'buy_量', '券商分點_量', 'buy_金額', '券商分點_金額']\n",
    "\n",
    "    # 把 公司中文名 merge\n",
    "    df_name = pd.read_excel('comp_name.xlsx')\n",
    "    df_name.rename(columns={'代號': 'scode', '名稱':'sname'}, inplace=True)\n",
    "    df_name['scode'] = df_name['scode'].astype(str)\n",
    "    df = df.merge(df_name, on=['scode'], how='left')\n",
    "    df = df[df['sname'].notnull()]\n",
    "    df = df[['scode', 'sname', 'date', '排名', 'vol(千股)', 'vol(萬)', 'buy_量', '券商分點_量', 'buy_金額', '券商分點_金額']]\n",
    "\n",
    "    # 整理買賣超金額 / 股數 / 買超佔比\n",
    "    df['buy_proportion'] = round(df['buy_量'] / df['vol(千股)']*100,2)\n",
    "    df['vol(千股)'] = round(df['vol(千股)']/1000, 2)\n",
    "    df['vol(萬)'] = round(df['vol(萬)']/10000, 2)\n",
    "    df['buy_量'] = round(df['buy_量']/1000, 2)\n",
    "    df['buy_金額'] = round(df['buy_金額']/10000, 2)\n",
    "\n",
    "    # 整理 成交量\n",
    "    df_temp = df[['scode', 'date', 'buy_量', '券商分點_量']].copy()\n",
    "    df = df[['scode', 'sname', 'date', '排名', 'vol(千股)', 'vol(萬)', 'buy_金額', '券商分點_金額', 'buy_proportion']]\n",
    "    df = df.merge(df_temp, left_on=['scode', 'date', '券商分點_金額'], right_on=['scode', 'date', '券商分點_量'], how='left')\n",
    "    df = df[['scode', 'sname', 'date', '排名', 'vol(千股)', 'vol(萬)', 'buy_量', 'buy_金額', '券商分點_金額', 'buy_proportion']]\n",
    "    df.rename(columns={'券商分點_金額': 'bname'}, inplace=True)\n",
    "\n",
    "    # 篩選\n",
    "    df = df[df['buy_金額']>100]\n",
    "\n",
    "    df.reset_index(drop=True, inplace=True)\n",
    "    return df\n",
    "\n",
    "df = data.copy()\n",
    "df = arrange_data(df)\n",
    "\n",
    "# 條件 \n",
    "# 1 : 買超金額 > ?\n",
    "# 2 : 買超佔比 > ?\n",
    "# 3 : 排除分點\n",
    "df_out = df[(df['buy_金額']>300)&(~df['bname'].isin(lst_exclude))].copy()\n",
    "df_out = df_out.sort_values(['buy_金額'],ascending=False).reset_index(drop=True)\n",
    "df_out['scode'] = df_out['scode'].astype(int)\n",
    "\n",
    "# -----------------------------------------\n",
    "# 2 標特別分點\n",
    "def get_googlesheet_chip():\n",
    "    gc = pygsheets.authorize(service_file='sotck-chip-analysis-4d71166d853b.json')\n",
    "    sheet = gc.open('chip')\n",
    "    print(sheet.worksheets()) # 看有哪些 sheet\n",
    "    df_chip_google = pd.DataFrame(sheet[0].get_all_records())\n",
    "    df_chip_chairman = pd.DataFrame(sheet[1].get_all_records())\n",
    "    return df_chip_google, df_chip_chairman\n",
    "\n",
    "def mark_special_chip(df, df_chip_google, df_chip_chairman):\n",
    "    # TEJ 的分點都是4個字，所以要調整 ==\n",
    "    dic = {'第一金': '第一', '華南永昌': '華南', '敦北法人': '敦北', '群益金鼎':'群益', '永豐金':'永豐', '中國信託':'中信', '台灣企銀':'台企', \n",
    "          '北高雄':'北高', '忠孝鼎富':'忠鼎', '西台中':'西台', '彰化民生':'彰生', '大天母':'大天', '高美館':'高美', '南京東路':'南京', '蘆洲中正':'蘆洲', '統一新台中':'統一新台',\n",
    "          '北成功':'北成', '北三重':'北重', '大稻埕':'稻埕',' ':''}\n",
    "\n",
    "    # 特別分點\n",
    "    df_c = df_chip_google.copy()\n",
    "    df_c['分點'] = df_c['分點'].replace(dic, regex=True)\n",
    "    df_c = df_c.rename(columns={'分點':'bname'})\n",
    "    df_c = df_c[['scode', 'bname', '特性', 'Good', '權證', '年度1', '年度2', '備註']]\n",
    "    df['特別記錄'] = ''\n",
    "    df = df.merge(df_c, on=['scode', 'bname'], how='left')\n",
    "    df.loc[df['特性'].notnull(),'特別記錄'] = 'Y'\n",
    "    df = df.sort_values(by=['特性', 'buy_金額'], ascending=[True, False])\n",
    "\n",
    "    # 董監分點\n",
    "    dfchairman = df_chip_chairman.copy()\n",
    "    dfchairman = dfchairman.rename(columns={'分點':'bname'})\n",
    "    dfchairman['bname'] = dfchairman['bname'].replace(dic, regex=True)\n",
    "    dfchairman = dfchairman[['scode', '申報人身分', '姓名', 'bname', '年度', '厲害']]\n",
    "    dfchairman['申報人身分'] = dfchairman['申報人身分'].str.replace('\\t','')\n",
    "    df['董監分點'] = ''\n",
    "    df = df.merge(dfchairman, on=['scode','bname'], how='left')\n",
    "    df.loc[df['申報人身分'].notnull(),'董監分點'] = 'Y'\n",
    "    df = df.sort_values(by=['特性', '董監分點', 'buy_金額'], ascending=[True, True, False])\n",
    "    df = df.reset_index(drop=True)\n",
    "    return df\n",
    "\n",
    "df_chip_google, df_chip_chairman = get_googlesheet_chip()\n",
    "df_out = mark_special_chip(df_out, df_chip_google, df_chip_chairman)\n",
    "\n",
    "# -----------------------------------------\n",
    "# to excel\n",
    "file_name = '分點買賣超_%s.xlsx'%(date.today().strftime(\"%Y%m%d\"))\n",
    "df_out.to_excel(file_name, index=False, header=True)\n",
    "\n",
    "# -----------------------------------------\n",
    "# 3. 把 excel 著色\n",
    "def color_excel(file_name):\n",
    "    workbook = openpyxl.load_workbook(file_name)\n",
    "    sheet = workbook.worksheets[0]\n",
    "\n",
    "    # 顯示 cell 資料\n",
    "    for i in range(1, sheet.max_row+1):\n",
    "        for j in range(1, sheet.max_column+1):\n",
    "            cell = sheet.cell(row=i, column=j)\n",
    "            if i == 1:\n",
    "                cell.font = Font(name='微軟正黑體', bold=True, size=12)\n",
    "            elif j in [1,3,4,5,6,7,11,13,14,15,16,18,21,22]:\n",
    "                cell.font = Font(name='Calibri')\n",
    "            elif j in [2,9,12,17,19,20]:\n",
    "                cell.font = Font(name='微軟正黑體')\n",
    "            \n",
    "            if j in [11,12,13,14,15,16,17] and i == 1:\n",
    "                color_fill = PatternFill(start_color='FFFF6F', fill_type='solid')\n",
    "                sheet.cell(row=i, column=j).fill = color_fill\n",
    "            elif j in [18,19,20,21,22] and i == 1:\n",
    "                color_fill = PatternFill(start_color='FFAF60', fill_type='solid')\n",
    "                sheet.cell(row=i, column=j).fill = color_fill\n",
    "                \n",
    "            if j == 8 and i != 1: # buy_金額\n",
    "                # print(i, j, cell.value)\n",
    "                if cell.value > 20000:\n",
    "                    color_fill = PatternFill(start_color='ffd6cf', fill_type='solid')\n",
    "                    sheet.cell(row=i, column=j).fill = color_fill          \n",
    "                elif cell.value > 10000:\n",
    "                    color_fill = PatternFill(start_color='ffe6b3', fill_type='solid')\n",
    "                    sheet.cell(row=i, column=j).fill = color_fill\n",
    "                elif cell.value > 5000:\n",
    "                    color_fill = PatternFill(start_color='c7dbf7', fill_type='solid')\n",
    "                    sheet.cell(row=i, column=j).fill = color_fill\n",
    "                elif cell.value > 1000:\n",
    "                    color_fill = PatternFill(start_color='DDF3FF', fill_type='solid')\n",
    "                    sheet.cell(row=i, column=j).fill = color_fill\n",
    "                cell.font = Font(name='Calibri')\n",
    "            elif j == 10 and i != 1: # buy_proportion\n",
    "                if cell.value > 50:\n",
    "                    color_fill = PatternFill(start_color='bfa87c', fill_type='solid')\n",
    "                    sheet.cell(row=i, column=j).fill = color_fill\n",
    "                elif cell.value > 20:\n",
    "                    color_fill = PatternFill(start_color='e6d395', fill_type='solid')\n",
    "                    sheet.cell(row=i, column=j).fill = color_fill\n",
    "                elif cell.value > 10:\n",
    "                    color_fill = PatternFill(start_color='f0e6c0', fill_type='solid')\n",
    "                    sheet.cell(row=i, column=j).fill = color_fill\n",
    "                elif cell.value > 5:\n",
    "                    color_fill = PatternFill(start_color='fffad9', fill_type='solid')\n",
    "                    sheet.cell(row=i, column=j).fill = color_fill\n",
    "                cell.font = Font(name='Calibri')\n",
    "            elif (j == 11 or j == 18) and i != 1: # 特別記錄分點\n",
    "                if cell.value == 'Y':\n",
    "                    color_fill = PatternFill(start_color='E6E6F2', fill_type='solid')\n",
    "                    sheet.cell(row=i, column=j).fill = color_fill\n",
    "\n",
    "    workbook.save(file_name)\n",
    "    \n",
    "color_excel(file_name)\n",
    "\n",
    "\n",
    "# ==================================================================\n",
    "# 自動寄信\n",
    "my_mail = 'auto.momoju@gmail.com'\n",
    "receive_mail = \"wju880913@gmail.com\"\n",
    "# receive_mail_2 = \"tyng092802@gmail.com\"\n",
    "\n",
    "def auto_send_mail(my_mail, receive_mail, file_name):\n",
    "    content = MIMEMultipart()  #建立MIMEMultipart物件\n",
    "    content[\"subject\"] = \"%s 籌碼分點excel\"%(date.today().strftime(\"%Y-%m-%d\"))   #郵件標題\n",
    "    content[\"from\"] = my_mail  #寄件者\n",
    "    content[\"to\"] = receive_mail #收件者\n",
    "    content.attach(MIMEText(\"~~~今天ㄉ籌碼分點excel~~~\"))  #郵件內容\n",
    "\n",
    "    #寄送csv檔案\n",
    "    \n",
    "    with open(file_name, 'rb') as file:\n",
    "        pdfload = MIMEApplication(file.read())\n",
    "        pdfload.add_header('Content-Disposition', 'attachment', filename=file_name)\n",
    "        content.attach(pdfload)\n",
    "\n",
    "    with smtplib.SMTP(host=\"smtp.gmail.com\", port=\"587\") as smtp:  # 設定SMTP伺服器\n",
    "        try:\n",
    "            smtp.ehlo()  # 驗證SMTP伺服器\n",
    "            smtp.starttls()  # 建立加密傳輸\n",
    "            smtp.login(my_mail, \"hwvo kclo yqfo lmvu\")  # 登入寄件者gmail\n",
    "            smtp.send_message(content)  # 寄送郵件\n",
    "            print(\"成功傳送\")\n",
    "        except Exception as e:\n",
    "            print(\"Error message: \", e)\n",
    "            \n",
    "auto_send_mail(my_mail, receive_mail, file_name)\n",
    "# auto_send_mail(my_mail, receive_mail_2, file_name)\n",
    "\n",
    "# =================================================================="
   ]
  },
  {
   "cell_type": "markdown",
   "id": "fe4b8180",
   "metadata": {},
   "source": [
    "# 跟自己收集的檢查"
   ]
  },
  {
   "cell_type": "code",
   "execution_count": null,
   "id": "e09c2564",
   "metadata": {},
   "outputs": [],
   "source": []
  }
 ],
 "metadata": {
  "hide_input": false,
  "kernelspec": {
   "display_name": "Python 3 (ipykernel)",
   "language": "python",
   "name": "python3"
  },
  "language_info": {
   "codemirror_mode": {
    "name": "ipython",
    "version": 3
   },
   "file_extension": ".py",
   "mimetype": "text/x-python",
   "name": "python",
   "nbconvert_exporter": "python",
   "pygments_lexer": "ipython3",
   "version": "3.10.9"
  },
  "toc": {
   "base_numbering": 1,
   "nav_menu": {},
   "number_sections": true,
   "sideBar": true,
   "skip_h1_title": false,
   "title_cell": "Table of Contents",
   "title_sidebar": "Contents",
   "toc_cell": false,
   "toc_position": {},
   "toc_section_display": true,
   "toc_window_display": false
  },
  "varInspector": {
   "cols": {
    "lenName": 16,
    "lenType": 16,
    "lenVar": 40
   },
   "kernels_config": {
    "python": {
     "delete_cmd_postfix": "",
     "delete_cmd_prefix": "del ",
     "library": "var_list.py",
     "varRefreshCmd": "print(var_dic_list())"
    },
    "r": {
     "delete_cmd_postfix": ") ",
     "delete_cmd_prefix": "rm(",
     "library": "var_list.r",
     "varRefreshCmd": "cat(var_dic_list()) "
    }
   },
   "types_to_exclude": [
    "module",
    "function",
    "builtin_function_or_method",
    "instance",
    "_Feature"
   ],
   "window_display": false
  }
 },
 "nbformat": 4,
 "nbformat_minor": 5
}
